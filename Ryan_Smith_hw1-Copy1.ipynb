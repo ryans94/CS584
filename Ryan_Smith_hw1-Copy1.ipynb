{
 "cells": [
  {
   "cell_type": "markdown",
   "metadata": {},
   "source": [
    "# CS 584 :: Data Mining :: George Mason University :: Fall 2025\n",
    "\n",
    "\n",
    "# Homework 1: KNN&PCA\n",
    "\n",
    "- **100 points [6% of your final grade]**\n",
    "- **Due Tuesday, Sep 28 by 11:59pm**\n",
    "\n",
    "- *Goals of this homework:* (1) implement the KNN algorithm for classifying handwritten digit images; (2) implement the PCA algorithm to reduce the feature dimension so that we can speed up the KNN algorithm and also improve the classification performance; (3) tune the hyperparameters of the KNN and PCA algorithms to produce classification result as good as possible.\n",
    "\n",
    "- *Submission instructions:* for this homework, you should submit your notebook file to **Canvas** (look for the homework 1 assignment there). Please name your submission **FirstName_Lastname_hw1.ipynb**, so for example, my submission would be something like **Ziwei_Zhu_hw1.ipynb**. Your notebook should be fully executed so that we can see all outputs."
   ]
  },
  {
   "cell_type": "markdown",
   "metadata": {},
   "source": [
    "## Part 1: KNN (50 points)\n",
    "\n",
    "In this part, you need to implement your own KNN algorithm for classifying the digits (from 0 to 9) from the handwritten digit images (28 pixels * 28 pixels). The provided train.txt is the training data you will use for building your model. Each line in the file is one sample, whose first value is the ground-truth label, and the following 784 values are the pixels of the image. First of all, let's load the data by executing the following code."
   ]
  },
  {
   "cell_type": "code",
   "execution_count": 179,
   "metadata": {},
   "outputs": [
    {
     "name": "stdout",
     "output_type": "stream",
     "text": [
      "array of labels: shape (60000,)\n",
      "array of feature matrix: shape (60000, 784)\n"
     ]
    }
   ],
   "source": [
    "import numpy as np\n",
    "\n",
    "data = np.loadtxt(\"train.txt\", delimiter=',')\n",
    "labels = data[:, 0].astype(int)\n",
    "features = data[:, 1:]\n",
    "print('array of labels: shape ' + str(np.shape(labels)))\n",
    "print('array of feature matrix: shape ' + str(np.shape(features)))"
   ]
  },
  {
   "cell_type": "markdown",
   "metadata": {},
   "source": [
    "Now, we have the label variable to store the ground-truth labels (from 0 to 9) of all 60,000 samples, and matrix features to store the image pixels of these samples. Next, let's execute the following code to plot the first 4 samples to see how these images look like."
   ]
  },
  {
   "cell_type": "code",
   "execution_count": 180,
   "metadata": {},
   "outputs": [
    {
     "data": {
      "image/png": "[encoded data removed]",
      "text/plain": [
       "<Figure size 1000x5000 with 4 Axes>"
      ]
     },
     "metadata": {},
     "output_type": "display_data"
    }
   ],
   "source": [
    "import matplotlib.pyplot as plt \n",
    "fig, ax = plt.subplots(1, 4, figsize=(10, 50))\n",
    "for i in range(4):  \n",
    "    ax[i].imshow(features[i].reshape((28, 28)), cmap=plt.get_cmap('gray'))\n",
    "    ax[i].set_title('Label is %d' % labels[i])"
   ]
  },
  {
   "cell_type": "markdown",
   "metadata": {},
   "source": [
    "Next, you need to **randomly** select 20% samples (sampling without replacement) from the data as the **validation set**, and generate the new **training set** by removing the selected validation samples from the original dataset. Write your code in the next cell.\n",
    "\n",
    "**Note: You are NOT allowed to directly call APIs from an existing Machine Learning library like sklearn. But you can use the python 'random' library or the random module from 'numpy'**."
   ]
  },
  {
   "cell_type": "code",
   "execution_count": 181,
   "metadata": {},
   "outputs": [],
   "source": [
    "from numpy import random\n",
    "import numpy as np\n",
    "\n",
    "np.random.seed(31) # in case I need to rerun this block, I dont want to accidentaly contaminate the model with overlapping training/validation sets\n",
    "set_index=random.choice(60000,size=3000,replace=False) #generate set index that I will pull from train data and use in validation only\n",
    "validation_labels=labels[set_index] #add set index from train data to validation set\n",
    "validation_features=features[set_index] # add set index from train data to features validation\n",
    "train_labels=np.delete(labels,set_index,axis=0) #remove the random set_index rows from the train data labels so val set is disjoint\n",
    "train_features=np.delete(features,set_index, axis=0) #remove the random set_index rows from the train data features so val set is disjoint\n",
    "\n",
    "#print(len(validation_features[0]))\n",
    "#print(len(train_features[0]))\n",
    "\n",
    "\n"
   ]
  },
  {
   "cell_type": "markdown",
   "metadata": {},
   "source": [
    "Now, it's time to implement your KNN algorithm. In the next cell, please write your code to predict labels for samples in the validation set by the KNN model built on the training set. Here we set K = 10 and use the Euclidean distance to find neighbors.\n",
    "\n",
    "**Note: You should implement the algorithm by Python, Numpy, and other libraries you think are necessary. You are NOT allowed to directly call APIs from an existing Machine Learning library like sklearn.**\n",
    "\n",
    "**Note: Here, you should only use the labels from the training set for the KNN model.**\n",
    "\n",
    "**Note: You can install and use the 'tqdm' library to help you track the process of your algorithm. Details are 'https://github.com/tqdm/tqdm'**\n",
    "\n",
    "**Note: It takes 30~60 min to execute the KNN algorithm.**"
   ]
  },
  {
   "cell_type": "code",
   "execution_count": 182,
   "metadata": {
    "scrolled": true
   },
   "outputs": [
    {
     "name": "stdout",
     "output_type": "stream",
     "text": [
      "[0 4 1 9 2 1 3 4 3 5]\n"
     ]
    },
    {
     "name": "stderr",
     "output_type": "stream",
     "text": [
      "100%|████████████████████████████████████████████████████████████████████████████████| 300/300 [00:03<00:00, 87.90it/s]\n"
     ]
    },
    {
     "name": "stdout",
     "output_type": "stream",
     "text": [
      "[]\n",
      "[[37  0  0  0  0  0  1  0  2  0]\n",
      " [ 0 29  3  1  3  2  1  0  2  0]\n",
      " [ 0  0 20  0  0  0  0  0  1  0]\n",
      " [ 0  0  0 27  0  2  0  0  1  0]\n",
      " [ 0  0  1  0 25  0  1  0  0  1]\n",
      " [ 1  0  0  0  0 23  0  0  0  0]\n",
      " [ 0  0  0  0  0  0 28  0  0  0]\n",
      " [ 0  0  3  0  0  0  0 29  0  2]\n",
      " [ 0  0  0  0  0  0  0  0 16  0]\n",
      " [ 2  0  0  0  2  1  0  0  4 29]]\n"
     ]
    },
    {
     "data": {
      "image/png": "[encoded data removed]",
      "text/plain": [
       "<Figure size 500x500 with 1 Axes>"
      ]
     },
     "metadata": {},
     "output_type": "display_data"
    }
   ],
   "source": [
    "# Write your code here\n",
    "from numpy import random\n",
    "import numpy as np\n",
    "from collections import Counter\n",
    "from tqdm import tqdm\n",
    "import matplotlib.pyplot as plt \n",
    "\n",
    "prediction_table=np.zeros((10,10), dtype=int)\n",
    "\n",
    "print(train_labels[:10])\n",
    "def knn(val_set_features,val_set_labels,train_set_features,train_set_labels,k):\n",
    "    predict=\"\"\n",
    "    \n",
    "    for val_idx, vector in enumerate(tqdm(val_set_features)):\n",
    "        stored_arr=[]\n",
    "        for idx, tst_vector in enumerate(train_set_features):\n",
    "            dist=distance(vector,tst_vector) #get ditance between the training set and the vector to identify the closest representation\n",
    "            stored_arr.append([dist,int(train_set_labels[idx])]) # store distance of euclidean distance between training vector and validation vector along with correspondint traiing label\n",
    "            #print(dist)\n",
    "        stored_arr.sort(key=lambda label: label[0]) #sort the array values based on the distance (input as a tuple at position 0)\n",
    "        k_freqs=[]\n",
    "        for num in range(k):\n",
    "            k_freqs.append(stored_arr[num][1]) #store labels that show up in k slots after sorting into k_freqs list to be counted\n",
    "        \n",
    "        count=Counter(k_freqs)\n",
    "        predict=count.most_common(1)[0][0]\n",
    "        #print(f\"prediction was {predict} but truth was {val_set_labels[val_idx]}\")\n",
    "        prediction_table[predict,val_set_labels[val_idx]]+=1\n",
    "        \n",
    "def distance(test,train):\n",
    "    dist=np.sqrt(np.sum((test-train)**2))\n",
    "    return dist\n",
    "\n",
    "knn(validation_features[:300],validation_labels[:300],train_features[:1000],train_labels[:1000],10)\n",
    "\n",
    "fig, ax = plt.subplots(figsize=(5, 5))   # single plot\n",
    "ax.imshow(validation_features[2].reshape((28, 28)), cmap='gray')\n",
    "ax.set_title(f\"Label is {validation_labels[2]}\")\n",
    "\n",
    "print(prediction_list[:30])\n",
    "print(prediction_table)\n",
    "#print(f\"accuracy is: {total_success_count} \")\n",
    "#print(prediction_list[2][0],prediction_list[2][1])\n"
   ]
  },
  {
   "cell_type": "markdown",
   "metadata": {},
   "source": [
    "Then, please write code to compute the **Accuracy**, and **Micro-averaged and Macro-averaged F1 scores** to evaluate the performance on the validation set.\n",
    "\n",
    "Print out these three metrics."
   ]
  },
  {
   "cell_type": "code",
   "execution_count": 183,
   "metadata": {},
   "outputs": [
    {
     "name": "stdout",
     "output_type": "stream",
     "text": [
      "[[37  0  0  0  0  0  1  0  2  0]\n",
      " [ 0 29  3  1  3  2  1  0  2  0]\n",
      " [ 0  0 20  0  0  0  0  0  1  0]\n",
      " [ 0  0  0 27  0  2  0  0  1  0]\n",
      " [ 0  0  1  0 25  0  1  0  0  1]\n",
      " [ 1  0  0  0  0 23  0  0  0  0]\n",
      " [ 0  0  0  0  0  0 28  0  0  0]\n",
      " [ 0  0  3  0  0  0  0 29  0  2]\n",
      " [ 0  0  0  0  0  0  0  0 16  0]\n",
      " [ 2  0  0  0  2  1  0  0  4 29]]\n",
      "37\n",
      "in row for 0, there were 37 TP and 260 TN out of 300 total which is an accuracy of 0.99\n",
      "29\n",
      "in row for 1, there were 29 TP and 259 TN out of 300 total which is an accuracy of 0.96\n",
      "20\n",
      "in row for 2, there were 20 TP and 279 TN out of 300 total which is an accuracy of 0.9966666666666667\n",
      "27\n",
      "in row for 3, there were 27 TP and 270 TN out of 300 total which is an accuracy of 0.99\n",
      "25\n",
      "in row for 4, there were 25 TP and 272 TN out of 300 total which is an accuracy of 0.99\n",
      "23\n",
      "in row for 5, there were 23 TP and 276 TN out of 300 total which is an accuracy of 0.9966666666666667\n",
      "28\n",
      "in row for 6, there were 28 TP and 272 TN out of 300 total which is an accuracy of 1.0\n",
      "29\n",
      "in row for 7, there were 29 TP and 266 TN out of 300 total which is an accuracy of 0.9833333333333333\n",
      "16\n",
      "in row for 8, there were 16 TP and 284 TN out of 300 total which is an accuracy of 1.0\n",
      "29\n",
      "in row for 9, there were 29 TP and 262 TN out of 300 total which is an accuracy of 0.97\n"
     ]
    }
   ],
   "source": [
    "# Write your code here\n",
    "print(prediction_table)\n",
    "#used 300, but should be len(val_set_labels) since this will be the size of the test set\n",
    "for idx, row in enumerate(prediction_table):\n",
    "    col=idx\n",
    "    tp=0\n",
    "    bad_predicts=0\n",
    "    for row_idx,item in enumerate(row):\n",
    "        if(row_idx==col):\n",
    "            print(row[col])\n",
    "            tp+=row[col]\n",
    "        elif(item!=0):\n",
    "            bad_predicts+=row[row_idx]\n",
    "    tn=300-(bad_predicts+tp)\n",
    "    print(f\"in row for {idx}, there were {tp} TP and {tn} TN out of {300} total which is an accuracy of {(tp+tn)/300}\")\n"
   ]
  },
  {
   "cell_type": "markdown",
   "metadata": {},
   "source": [
    "## Part 2: PCA (30 points)\n",
    "\n",
    "In this part, you will implement the PCA algorithm to reduce the input dimension for the handwritten digit recognition task. In the next cell, please write your code to compute the transformation matrix in the PCA method for the training set we got from the previous part. Here, we only keep the **top 50 dimensions**.\n",
    "\n",
    "**Hint: You can use the function from the Numpy library to compute SVD:**\n",
    "\n",
    "*u, s, v = np.linalg.svd(a, full_matrices=False)*\n",
    "\n",
    "\n",
    "**Note: You should only use the training set to compute PCA without using validation set.**"
   ]
  },
  {
   "cell_type": "code",
   "execution_count": 184,
   "metadata": {},
   "outputs": [],
   "source": [
    "# Write your code here"
   ]
  },
  {
   "cell_type": "markdown",
   "metadata": {},
   "source": [
    "Now, you need to apply the computed transformation matrix to reduce the dimension for the training set and the validation set. Then, build a new KNN model on the dimension-reduced training data and predict the labels for the dimension-reduced validation set. \n",
    "\n",
    "Print out the Accuracy, and Micro-averaged and Macro-averaged F1 scores.\n",
    "\n",
    "**Note: When you calculate the centered data for the validation set, you can calculate the mean feature values just by the validation data itself.**"
   ]
  },
  {
   "cell_type": "code",
   "execution_count": 185,
   "metadata": {},
   "outputs": [],
   "source": [
    "# Write your code here"
   ]
  },
  {
   "cell_type": "markdown",
   "metadata": {},
   "source": [
    "## Part 3: Tune Hyperparameter (20 points)\n",
    "\n",
    "In this part, you need to do your best to tune the hyperparameters in KNN and PCA to build the best model.\n",
    "\n",
    "You should tune three hyperparameters with the training data provided:\n",
    "\n",
    "- the number of nearest neighbors in KNN \n",
    "- the distance measurement (choose from Euclidean distance, L1 norm distance, and cosine distance)\n",
    "- the number of dimensions kept in PCA \n",
    "\n",
    "\n",
    "**Hint: You can tune these hyperparameters by one randomly generated validation set (like what you have done in previous parts), or you can also use the cross-validation method.**\n",
    "\n",
    "**Hint: To save your time, you can subsample 50% (or even less) of the training data to tune hyperparameters.**\n",
    "\n",
    "**Note: For each hyperparameter, you must try at least 2 different values.**"
   ]
  },
  {
   "cell_type": "code",
   "execution_count": 186,
   "metadata": {},
   "outputs": [],
   "source": [
    "# Write your code here"
   ]
  },
  {
   "cell_type": "markdown",
   "metadata": {},
   "source": [
    "### Question: What is your final hyperparameter setting? How do you tune them? What choices have you tried?"
   ]
  },
  {
   "cell_type": "markdown",
   "metadata": {},
   "source": [
    "#### Write your answer here"
   ]
  },
  {
   "cell_type": "markdown",
   "metadata": {},
   "source": [
    "Now, let's test if your best hyperparameter setting really works. We will load a separate testing dataset to test your choice. Let's load the testing data by executing the following code."
   ]
  },
  {
   "cell_type": "code",
   "execution_count": 187,
   "metadata": {},
   "outputs": [
    {
     "name": "stdout",
     "output_type": "stream",
     "text": [
      "array of testing feature matrix: shape (10000, 784)\n",
      "array of testing labels: shape (10000,)\n"
     ]
    }
   ],
   "source": [
    "test_features = np.loadtxt(\"test.txt\", delimiter=',')\n",
    "test_labels = np.loadtxt(\"test_label.txt\")\n",
    "print('array of testing feature matrix: shape ' + str(np.shape(test_features)))\n",
    "print('array of testing labels: shape ' + str(np.shape(test_labels)))"
   ]
  },
  {
   "cell_type": "markdown",
   "metadata": {},
   "source": [
    "Please apply the KNN model with the best hyperparameter setting you find above to this testing set, and report the Accuracy, and Micro-averaged and Macro-averaged F1 scores of your best model on the testing set.\n",
    "\n",
    "Print out these three metrics."
   ]
  },
  {
   "cell_type": "code",
   "execution_count": 188,
   "metadata": {},
   "outputs": [],
   "source": [
    "# Write your code here"
   ]
  }
 ],
 "metadata": {
  "anaconda-cloud": {},
  "kernelspec": {
   "display_name": "Python 3 (ipykernel)",
   "language": "python",
   "name": "python3"
  },
  "language_info": {
   "codemirror_mode": {
    "name": "ipython",
    "version": 3
   },
   "file_extension": ".py",
   "mimetype": "text/x-python",
   "name": "python",
   "nbconvert_exporter": "python",
   "pygments_lexer": "ipython3",
   "version": "3.13.5"
  }
 },
 "nbformat": 4,
 "nbformat_minor": 4
}
