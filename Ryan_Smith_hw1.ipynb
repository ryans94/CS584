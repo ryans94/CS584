{
 "cells": [
  {
   "cell_type": "markdown",
   "metadata": {},
   "source": [
    "# CS 584 :: Data Mining :: George Mason University :: Fall 2025\n",
    "\n",
    "\n",
    "# Homework 1: KNN&PCA\n",
    "\n",
    "- **100 points [6% of your final grade]**\n",
    "- **Due Tuesday, Sep 28 by 11:59pm**\n",
    "\n",
    "- *Goals of this homework:* (1) implement the KNN algorithm for classifying handwritten digit images; (2) implement the PCA algorithm to reduce the feature dimension so that we can speed up the KNN algorithm and also improve the classification performance; (3) tune the hyperparameters of the KNN and PCA algorithms to produce classification result as good as possible.\n",
    "\n",
    "- *Submission instructions:* for this homework, you should submit your notebook file to **Canvas** (look for the homework 1 assignment there). Please name your submission **FirstName_Lastname_hw1.ipynb**, so for example, my submission would be something like **Ziwei_Zhu_hw1.ipynb**. Your notebook should be fully executed so that we can see all outputs."
   ]
  },
  {
   "cell_type": "markdown",
   "metadata": {},
   "source": [
    "## Part 1: KNN (50 points)\n",
    "\n",
    "In this part, you need to implement your own KNN algorithm for classifying the digits (from 0 to 9) from the handwritten digit images (28 pixels * 28 pixels). The provided train.txt is the training data you will use for building your model. Each line in the file is one sample, whose first value is the ground-truth label, and the following 784 values are the pixels of the image. First of all, let's load the data by executing the following code."
   ]
  },
  {
   "cell_type": "code",
   "execution_count": 78,
   "metadata": {},
   "outputs": [
    {
     "name": "stdout",
     "output_type": "stream",
     "text": [
      "array of labels: shape (60000,)\n",
      "array of feature matrix: shape (60000, 784)\n"
     ]
    }
   ],
   "source": [
    "import numpy as np\n",
    "\n",
    "data = np.loadtxt(\"train.txt\", delimiter=',')\n",
    "labels = data[:, 0].astype(int)\n",
    "features = data[:, 1:]\n",
    "print('array of labels: shape ' + str(np.shape(labels)))\n",
    "print('array of feature matrix: shape ' + str(np.shape(features)))"
   ]
  },
  {
   "cell_type": "markdown",
   "metadata": {},
   "source": [
    "Now, we have the label variable to store the ground-truth labels (from 0 to 9) of all 60,000 samples, and matrix features to store the image pixels of these samples. Next, let's execute the following code to plot the first 4 samples to see how these images look like."
   ]
  },
  {
   "cell_type": "code",
   "execution_count": 79,
   "metadata": {},
   "outputs": [
    {
     "data": {
      "image/png": "[encoded data removed]",
      "text/plain": [
       "<Figure size 1000x5000 with 4 Axes>"
      ]
     },
     "metadata": {},
     "output_type": "display_data"
    }
   ],
   "source": [
    "import matplotlib.pyplot as plt \n",
    "fig, ax = plt.subplots(1, 4, figsize=(10, 50))\n",
    "for i in range(4):  \n",
    "    ax[i].imshow(features[i].reshape((28, 28)), cmap=plt.get_cmap('gray'))\n",
    "    ax[i].set_title('Label is %d' % labels[i])"
   ]
  },
  {
   "cell_type": "markdown",
   "metadata": {},
   "source": [
    "Next, you need to **randomly** select 20% samples (sampling without replacement) from the data as the **validation set**, and generate the new **training set** by removing the selected validation samples from the original dataset. Write your code in the next cell.\n",
    "\n",
    "**Note: You are NOT allowed to directly call APIs from an existing Machine Learning library like sklearn. But you can use the python 'random' library or the random module from 'numpy'**."
   ]
  },
  {
   "cell_type": "code",
   "execution_count": 80,
   "metadata": {},
   "outputs": [],
   "source": [
    "from numpy import random\n",
    "import numpy as np\n",
    "\n",
    "np.random.seed(31) # in case I need to rerun this block, I dont want to accidentaly contaminate the model with overlapping training/validation sets\n",
    "set_index=random.choice(60000,size=3000,replace=False) #generate set index that I will pull from train data and use in validation only\n",
    "validation_labels=labels[set_index] #add set index from train data to validation set\n",
    "validation_features=features[set_index] # add set index from train data to features validation\n",
    "train_labels=np.delete(labels,set_index,axis=0) #remove the random set_index rows from the train data labels so val set is disjoint\n",
    "train_features=np.delete(features,set_index, axis=0) #remove the random set_index rows from the train data features so val set is disjoint\n",
    "\n",
    "#print(len(validation_features[0]))\n",
    "#print(len(train_features[0]))\n",
    "\n",
    "\n"
   ]
  },
  {
   "cell_type": "markdown",
   "metadata": {},
   "source": [
    "Now, it's time to implement your KNN algorithm. In the next cell, please write your code to predict labels for samples in the validation set by the KNN model built on the training set. Here we set K = 10 and use the Euclidean distance to find neighbors.\n",
    "\n",
    "**Note: You should implement the algorithm by Python, Numpy, and other libraries you think are necessary. You are NOT allowed to directly call APIs from an existing Machine Learning library like sklearn.**\n",
    "\n",
    "**Note: Here, you should only use the labels from the training set for the KNN model.**\n",
    "\n",
    "**Note: You can install and use the 'tqdm' library to help you track the process of your algorithm. Details are 'https://github.com/tqdm/tqdm'**\n",
    "\n",
    "**Note: It takes 30~60 min to execute the KNN algorithm.**"
   ]
  },
  {
   "cell_type": "code",
   "execution_count": 88,
   "metadata": {
    "scrolled": true
   },
   "outputs": [
    {
     "name": "stdout",
     "output_type": "stream",
     "text": [
      "[0 4 1 9 2 1 3 4 3 5]\n"
     ]
    },
    {
     "name": "stderr",
     "output_type": "stream",
     "text": [
      "100%|██████████████████████████████████████████████████████████████████████████████| 1000/1000 [00:48<00:00, 20.73it/s]"
     ]
    },
    {
     "name": "stdout",
     "output_type": "stream",
     "text": [
      "[[101   0   1   0   0   0   0   0   1   0]\n",
      " [  1 119   3   3   2   0   1   6   6   0]\n",
      " [  1   1  85   1   0   0   0   0   1   0]\n",
      " [  0   0   0  90   0   3   0   0   4   0]\n",
      " [  0   0   0   0  79   0   0   0   0   1]\n",
      " [  0   0   0   1   0  87   0   0   2   2]\n",
      " [  2   0   1   0   1   0 114   0   0   0]\n",
      " [  0   0   3   0   0   1   0  99   1   1]\n",
      " [  0   0   0   0   0   0   0   0  73   0]\n",
      " [  0   0   0   0   2   1   0   1   5  93]]\n"
     ]
    },
    {
     "name": "stderr",
     "output_type": "stream",
     "text": [
      "\n"
     ]
    }
   ],
   "source": [
    "# Write your code here\n",
    "from numpy import random\n",
    "import numpy as np\n",
    "from collections import Counter\n",
    "from tqdm import tqdm\n",
    "import matplotlib.pyplot as plt \n",
    "\n",
    "prediction_table=np.zeros((10,10), dtype=int)\n",
    "\n",
    "print(train_labels[:10])\n",
    "def knn(val_set_features,val_set_labels,train_set_features,train_set_labels,k):\n",
    "    prediction_table[:]=0 #reset\n",
    "    predict=\"\"\n",
    "    \n",
    "    for val_idx, vector in enumerate(tqdm(val_set_features)):\n",
    "        stored_arr=[]\n",
    "        for idx, trn_vector in enumerate(train_set_features):\n",
    "            dist=distance(vector,trn_vector) #get distance between the training set and the vector to identify the closest representation\n",
    "            stored_arr.append([dist,int(train_set_labels[idx])]) # store distance of euclidean distance between training vector and validation vector along with correspondint traiing label\n",
    "            #print(dist)\n",
    "        stored_arr.sort(key=lambda label: label[0]) #sort the array values based on the distance (input as a tuple at position 0)\n",
    "        k_freqs=[]\n",
    "        for num in range(k):\n",
    "            k_freqs.append(stored_arr[num][1]) #store labels that show up in k slots after sorting into k_freqs list to be counted\n",
    "        \n",
    "        count=Counter(k_freqs)#counts the number of occurences for each label in the top k range and stores the counts as a dictionary\n",
    "        predict=count.most_common(1)[0][0] #the prediction with the top number of counts out of k posssiblities\n",
    "        #print(f\"prediction was {predict} but truth was {val_set_labels[val_idx]}\")\n",
    "        prediction_table[predict,val_set_labels[val_idx]]+=1\n",
    "        \n",
    "def distance(test,train):\n",
    "    dist=np.sqrt(np.sum((test-train)**2))\n",
    "    return dist\n",
    "\n",
    "knn(validation_features[:1000],validation_labels[:1000],train_features[:5000],train_labels[:5000],10)\n",
    "\n",
    "#fig, ax = plt.subplots(figsize=(5, 5))   # single plot\n",
    "#ax.imshow(validation_features[2].reshape((28, 28)), cmap='gray')\n",
    "#ax.set_title(f\"Label is {validation_labels[2]}\")\n",
    "\n",
    "print(prediction_table)\n",
    "\n"
   ]
  },
  {
   "cell_type": "markdown",
   "metadata": {},
   "source": [
    "Then, please write code to compute the **Accuracy**, and **Micro-averaged and Macro-averaged F1 scores** to evaluate the performance on the validation set.\n",
    "\n",
    "Print out these three metrics."
   ]
  },
  {
   "cell_type": "code",
   "execution_count": 89,
   "metadata": {},
   "outputs": [
    {
     "name": "stdout",
     "output_type": "stream",
     "text": [
      "[[101   0   1   0   0   0   0   0   1   0]\n",
      " [  1 119   3   3   2   0   1   6   6   0]\n",
      " [  1   1  85   1   0   0   0   0   1   0]\n",
      " [  0   0   0  90   0   3   0   0   4   0]\n",
      " [  0   0   0   0  79   0   0   0   0   1]\n",
      " [  0   0   0   1   0  87   0   0   2   2]\n",
      " [  2   0   1   0   1   0 114   0   0   0]\n",
      " [  0   0   3   0   0   1   0  99   1   1]\n",
      " [  0   0   0   0   0   0   0   0  73   0]\n",
      " [  0   0   0   0   2   1   0   1   5  93]]\n",
      "Accuracy is: 0.94\n",
      "[101 119  85  90  79  87 114  99  73  93]\n",
      "Macro F1: 0.9415450455674895\n",
      "Micro F1 is: 0.94\n"
     ]
    }
   ],
   "source": [
    "\n",
    "print(prediction_table)\n",
    "def accuracy():\n",
    "    total=np.sum(prediction_table)\n",
    "    tp=0\n",
    "    fn=0\n",
    "    fp=0\n",
    "    tn=0 # would just show up as a 0 in other categories other than the correct class for that row\n",
    "    \n",
    "    for idx, row in enumerate(prediction_table):\n",
    "        diagonal=idx\n",
    "        for col_idx,item in enumerate(row):\n",
    "            if(col_idx==diagonal):\n",
    "                #print(row[diagonal])\n",
    "                tp+=row[diagonal]\n",
    "            elif(col_idx!=diagonal):\n",
    "                fn+=row[col_idx]\n",
    "    print(f\"Accuracy is: {(tp+tn)/(total)}\")\n",
    "accuracy()#must follow knn\n",
    "\n",
    "#print(f\"Accuracy is: {(tp+tn)/(total)}\") #tn will just show up as a 0 for that row that discounts incorrect digits, so no need to add\n",
    "#print(f\"micro precision is {tp/(tp+fn)}\") #fn == fp in this clase because in this multiclass instance, if a value is not a diagonal it is both fp and fn\n",
    "\n",
    "#Macro Averaged \n",
    "#prints by column, need to sum up the scores and \n",
    "def f1_calc():\n",
    "    class_num=np.shape(prediction_table[0]) # could just use static 10\n",
    "    \n",
    "    macro_tp=np.diag(prediction_table)\n",
    "    print(macro_tp)\n",
    "    macro_fp=np.sum(prediction_table,axis=0)-macro_tp\n",
    "    macro_fn=np.sum(prediction_table, axis=1)-macro_tp\n",
    "    #print(macro_fp)\n",
    "    #print(macro_fn)\n",
    "    \n",
    "    macro_precision=(1/class_num[0])*np.sum(macro_tp/(macro_fp+macro_tp))\n",
    "    macro_recall = (1/class_num[0])*np.sum(macro_tp/(macro_fn+macro_tp))\n",
    "    #print(f\"Macro Precision is: {macro_precision}\")\n",
    "    macro_f1= (2*macro_precision*macro_recall) / (macro_precision + macro_recall)\n",
    "    print(f\"Macro F1: {macro_f1}\")\n",
    "    \n",
    "    # now for micro F1 score: (2* (precision)**2) / (2*Precision) --> precision\n",
    "    #Micro Averaged (sum up all tp)\n",
    "    #fp==fn so: micro precision==tp/tp+fp and micro recall ==tp/tp+fn, but fp==fn for micro\n",
    "    micro_tp=np.sum(macro_tp)\n",
    "    micro_fp=np.sum(macro_fp)\n",
    "    micro_fn=np.sum(macro_fn)\n",
    "    micro_precision=np.sum(micro_tp/(micro_tp+micro_fp))\n",
    "    micro_recall=np.sum(micro_tp/(micro_fn+micro_tp))\n",
    "    micro_f1= (2*micro_precision*micro_recall) / (micro_precision + micro_recall)\n",
    "    #print(f\"Micro Precision is: {micro_precision}\")\n",
    "    print(f\"Micro F1 is: {micro_f1}\")\n",
    "f1_calc()\n",
    "#print(f\"Micro Averaged: {micro_avg}\")\n",
    "\n"
   ]
  },
  {
   "cell_type": "markdown",
   "metadata": {},
   "source": [
    "## Part 2: PCA (30 points)\n",
    "\n",
    "In this part, you will implement the PCA algorithm to reduce the input dimension for the handwritten digit recognition task. In the next cell, please write your code to compute the transformation matrix in the PCA method for the training set we got from the previous part. Here, we only keep the **top 50 dimensions**.\n",
    "\n",
    "**Hint: You can use the function from the Numpy library to compute SVD:**\n",
    "\n",
    "*u, s, v = np.linalg.svd(a, full_matrices=False)*\n",
    "\n",
    "\n",
    "**Note: You should only use the training set to compute PCA without using validation set.**"
   ]
  },
  {
   "cell_type": "code",
   "execution_count": 98,
   "metadata": {},
   "outputs": [],
   "source": [
    "# Write your code here\n",
    "x=train_features.T\n",
    "x_bar= np.mean(x, axis=1, keepdims=True) #need to change to ensure it is the entire data set\n",
    "x_tilde=(x-x_bar) #new matrix witht he data centered ont he column mean\n",
    "\n",
    "u, s, v = np.linalg.svd(x_tilde,full_matrices=False)\n",
    "\n",
    "def dimension_reduce(start_features,p):#want it to take in a set, center it, and transform across train set, and project new features\n",
    "    y=start_features.T#represet train features\n",
    "    y_bar= np.mean(x, axis=1, keepdims=True)\n",
    "    y_tilde=(y-y_bar) #new matrix witht he data centered ont he column mean\n",
    "    \n",
    "    g_t=u[:,:p].T\n",
    "    z=g_t @ y_tilde\n",
    "    return z.T\n",
    "    \n",
    "\n",
    "#new matrix where we have educed to k features which will be useed int he KNN algorithm:\n",
    "p=50\n",
    "z_prime=dimension_reduce(train_features,p) \n",
    "\n"
   ]
  },
  {
   "cell_type": "markdown",
   "metadata": {},
   "source": [
    "Now, you need to apply the computed transformation matrix to reduce the dimension for the training set and the validation set. Then, build a new KNN model on the dimension-reduced training data and predict the labels for the dimension-reduced validation set. \n",
    "\n",
    "Print out the Accuracy, and Micro-averaged and Macro-averaged F1 scores.\n",
    "\n",
    "**Note: When you calculate the centered data for the validation set, you can calculate the mean feature values just by the validation data itself.**"
   ]
  },
  {
   "cell_type": "code",
   "execution_count": 99,
   "metadata": {},
   "outputs": [
    {
     "name": "stdout",
     "output_type": "stream",
     "text": [
      "[[-3.77637915e+02  5.66348495e+01 -5.41226434e+02 ... -1.33110777e+01\n",
      "  -2.17161016e+01 -6.78769533e+01]\n",
      " [ 3.79159801e+02  5.22219114e-01 -7.76794560e+02 ...  3.17430675e+01\n",
      "   2.32006794e+00  2.06793510e+02]\n",
      " [ 8.58082886e+02 -1.28030364e+02  1.07925599e+02 ... -3.21390713e+01\n",
      "  -1.15855742e+02  2.35810938e+01]\n",
      " ...\n",
      " [-1.29732447e+03 -1.38038950e+02 -1.00245274e+03 ...  9.14259621e+01\n",
      "  -1.68360462e+01  2.07089653e+01]\n",
      " [ 1.12078392e+02 -7.74227098e+02 -1.34596030e+02 ...  1.72310960e+02\n",
      "   1.57752961e+01  3.10719605e+01]\n",
      " [-1.20486187e+03 -2.01268470e+01 -4.61925399e+02 ...  3.40105632e+01\n",
      "   1.35287180e+02  3.95822146e+00]]\n"
     ]
    },
    {
     "name": "stderr",
     "output_type": "stream",
     "text": [
      "100%|██████████████████████████████████████████████████████████████████████████████| 1000/1000 [00:38<00:00, 26.08it/s]"
     ]
    },
    {
     "name": "stdout",
     "output_type": "stream",
     "text": [
      "[[101   0   1   0   0   0   0   0   1   0]\n",
      " [  1 118   1   2   0   0   1   4   2   0]\n",
      " [  2   1  87   1   0   0   0   0   1   0]\n",
      " [  0   0   0  92   0   3   0   0   3   0]\n",
      " [  0   0   0   0  82   0   0   0   1   1]\n",
      " [  0   0   0   0   0  86   0   0   3   2]\n",
      " [  1   0   2   0   1   0 114   0   0   0]\n",
      " [  0   1   2   0   0   1   0 102   0   1]\n",
      " [  0   0   0   0   0   1   0   0  80   0]\n",
      " [  0   0   0   0   1   1   0   0   2  93]]\n",
      "Accuracy is: 0.955\n",
      "[101 118  87  92  82  86 114 102  80  93]\n",
      "Macro F1: 0.9549687930757028\n",
      "Micro F1 is: 0.955\n"
     ]
    },
    {
     "name": "stderr",
     "output_type": "stream",
     "text": [
      "\n"
     ]
    }
   ],
   "source": [
    "# Write your code here\n",
    "val_prime=dimension_reduce(validation_features,p)\n",
    "\n",
    "\n",
    "#y=validation_features.T\n",
    "#y_bar= np.mean(y, axis=1, keepdims=True) #need to change to ensure it is the entire data set\n",
    "    \n",
    "#y_tilde=(y-y_bar)\n",
    "    \n",
    "#val_prime=(g_t @ y_tilde).T # val_prime represents the new matrix with 3000 rows(objexts) and 50 features \n",
    "    #print(z[0:5,0:5])\n",
    "\n",
    "#implement KNN\n",
    "knn(val_prime[:1000],validation_labels[:1000],z_prime[:5000],train_labels[:5000],7)\n",
    "print(prediction_table)\n",
    "accuracy()\n",
    "f1_calc()"
   ]
  },
  {
   "cell_type": "markdown",
   "metadata": {},
   "source": [
    "## Part 3: Tune Hyperparameter (20 points)\n",
    "\n",
    "In this part, you need to do your best to tune the hyperparameters in KNN and PCA to build the best model.\n",
    "\n",
    "You should tune three hyperparameters with the training data provided:\n",
    "\n",
    "- the number of nearest neighbors in KNN \n",
    "- the distance measurement (choose from Euclidean distance, L1 norm distance, and cosine distance)\n",
    "- the number of dimensions kept in PCA \n",
    "\n",
    "\n",
    "**Hint: You can tune these hyperparameters by one randomly generated validation set (like what you have done in previous parts), or you can also use the cross-validation method.**\n",
    "\n",
    "**Hint: To save your time, you can subsample 50% (or even less) of the training data to tune hyperparameters.**\n",
    "\n",
    "**Note: For each hyperparameter, you must try at least 2 different values.**"
   ]
  },
  {
   "cell_type": "code",
   "execution_count": 85,
   "metadata": {},
   "outputs": [],
   "source": [
    "# Write your code here"
   ]
  },
  {
   "cell_type": "markdown",
   "metadata": {},
   "source": [
    "### Question: What is your final hyperparameter setting? How do you tune them? What choices have you tried?"
   ]
  },
  {
   "cell_type": "markdown",
   "metadata": {},
   "source": [
    "#### Write your answer here"
   ]
  },
  {
   "cell_type": "markdown",
   "metadata": {},
   "source": [
    "Now, let's test if your best hyperparameter setting really works. We will load a separate testing dataset to test your choice. Let's load the testing data by executing the following code."
   ]
  },
  {
   "cell_type": "code",
   "execution_count": 92,
   "metadata": {},
   "outputs": [
    {
     "name": "stdout",
     "output_type": "stream",
     "text": [
      "array of testing feature matrix: shape (10000, 784)\n",
      "array of testing labels: shape (10000,)\n"
     ]
    }
   ],
   "source": [
    "test_features = np.loadtxt(\"test.txt\", delimiter=',')\n",
    "test_labels = np.loadtxt(\"test_label.txt\")\n",
    "print('array of testing feature matrix: shape ' + str(np.shape(test_features)))\n",
    "print('array of testing labels: shape ' + str(np.shape(test_labels)))"
   ]
  },
  {
   "cell_type": "markdown",
   "metadata": {},
   "source": [
    "Please apply the KNN model with the best hyperparameter setting you find above to this testing set, and report the Accuracy, and Micro-averaged and Macro-averaged F1 scores of your best model on the testing set.\n",
    "\n",
    "Print out these three metrics."
   ]
  },
  {
   "cell_type": "code",
   "execution_count": 87,
   "metadata": {},
   "outputs": [],
   "source": [
    "# Write your code here"
   ]
  }
 ],
 "metadata": {
  "anaconda-cloud": {},
  "kernelspec": {
   "display_name": "Python 3 (ipykernel)",
   "language": "python",
   "name": "python3"
  },
  "language_info": {
   "codemirror_mode": {
    "name": "ipython",
    "version": 3
   },
   "file_extension": ".py",
   "mimetype": "text/x-python",
   "name": "python",
   "nbconvert_exporter": "python",
   "pygments_lexer": "ipython3",
   "version": "3.13.5"
  }
 },
 "nbformat": 4,
 "nbformat_minor": 4
}
