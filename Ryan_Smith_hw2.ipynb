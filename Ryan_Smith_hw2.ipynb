{
  "cells": [
    {
      "cell_type": "markdown",
      "metadata": {
        "id": "4kk-RV36-4XH"
      },
      "source": [
        "# CS 584 :: Data Mining :: George Mason University :: Fall 2025\n",
        "\n",
        "\n",
        "# Homework 2: Linear Regression&Neural Networks\n",
        "\n",
        "- **100 points [6% of your final grade]**\n",
        "- **Due Sunday, October 19 by 11:59pm**\n",
        "\n",
        "- *Goals of this homework:* (1) implement the linear regression model; (2) implement the multi-layer perceptron neural network; (3) tune the hyperparameters of MLP model to produce classification result as good as possible.\n",
        "\n",
        "- *Submission instructions:* for this homework, you should submit your notebook file to **Canvas** (look for the homework 2 assignment there). Please name your submission **FirstName_Lastname_hw2.ipynb**, so for example, my submission would be something like **Ziwei_Zhu_hw2.ipynb**. Your notebook should be fully executed so that we can see all outputs."
      ]
    },
    {
      "cell_type": "markdown",
      "metadata": {
        "id": "y-5fsoyf-4XJ"
      },
      "source": [
        "## Part 1: Linear Regression (40 points)\n",
        "\n",
        "Recent studies have found that novel mobile games can lead to increased physical activity. A notable example is Pokemon Go, a mobile game combining the Pokemon world through augmented reality with the real world requiring players to physically move around. Specifically, in the following study, researchers have found that Pokemon Go leads to increased levels of physical activity for the most engaged players! https://www.ncbi.nlm.nih.gov/pmc/articles/PMC5174727/\n",
        "![image.png](attachment:image.png)\n",
        "\n"
      ]
    },
    {
      "cell_type": "markdown",
      "metadata": {
        "id": "VMPLM3jv-4XJ"
      },
      "source": [
        "In this part, our goal is to predict the combat point of each pokemon in the 2017 Pokemon Go mobile game. Each pokemon has its own unique attributes that can help predicting its combat points. These include:\n",
        "\n",
        "- Stamina\n",
        "- Attack value\n",
        "- Defense value\n",
        "- Capture rate\n",
        "- Flee rate\n",
        "- Spawn chance\n",
        "- Primary strength\n",
        "\n",
        "The file pokemon_data.csv contains data of 146 pokemons to be used in this homework. The rows of these files refer to the data samples (i.e., pokemon samples), while the columns denote the name of the pokemon (column 1), its attributes (columns 2-8), and the combat point outcome (column 9). You can ignore column 1 for the rest of this problem.\n",
        "\n",
        "First, let's load the data by executing the following code.\n",
        "\n",
        "**Note: you need to install the pandas library beforehand**"
      ]
    },
    {
      "cell_type": "code",
      "execution_count": 7,
      "metadata": {
        "colab": {
          "base_uri": "https://localhost:8080/",
          "height": 224
        },
        "id": "HSVIkOZq-4XJ",
        "outputId": "5fed6bb8-78c1-4e56-e4fb-e1f925bd8a19"
      },
      "outputs": [
        {
          "data": {
            "text/html": [
              "<div>\n",
              "<style scoped>\n",
              "    .dataframe tbody tr th:only-of-type {\n",
              "        vertical-align: middle;\n",
              "    }\n",
              "\n",
              "    .dataframe tbody tr th {\n",
              "        vertical-align: top;\n",
              "    }\n",
              "\n",
              "    .dataframe thead th {\n",
              "        text-align: right;\n",
              "    }\n",
              "</style>\n",
              "<table border=\"1\" class=\"dataframe\">\n",
              "  <thead>\n",
              "    <tr style=\"text-align: right;\">\n",
              "      <th></th>\n",
              "      <th>name</th>\n",
              "      <th>stamina</th>\n",
              "      <th>attack_value</th>\n",
              "      <th>defense_value</th>\n",
              "      <th>capture_rate</th>\n",
              "      <th>flee_rate</th>\n",
              "      <th>spawn_chance</th>\n",
              "      <th>primary_strength</th>\n",
              "      <th>combat_point</th>\n",
              "    </tr>\n",
              "  </thead>\n",
              "  <tbody>\n",
              "    <tr>\n",
              "      <th>0</th>\n",
              "      <td>Bulbasaur</td>\n",
              "      <td>90</td>\n",
              "      <td>126</td>\n",
              "      <td>126</td>\n",
              "      <td>0.16</td>\n",
              "      <td>0.10</td>\n",
              "      <td>69.0</td>\n",
              "      <td>Grass</td>\n",
              "      <td>1079</td>\n",
              "    </tr>\n",
              "    <tr>\n",
              "      <th>1</th>\n",
              "      <td>Ivysaur</td>\n",
              "      <td>120</td>\n",
              "      <td>156</td>\n",
              "      <td>158</td>\n",
              "      <td>0.08</td>\n",
              "      <td>0.07</td>\n",
              "      <td>4.2</td>\n",
              "      <td>Grass</td>\n",
              "      <td>1643</td>\n",
              "    </tr>\n",
              "    <tr>\n",
              "      <th>2</th>\n",
              "      <td>Venusaur</td>\n",
              "      <td>160</td>\n",
              "      <td>198</td>\n",
              "      <td>200</td>\n",
              "      <td>0.04</td>\n",
              "      <td>0.05</td>\n",
              "      <td>1.7</td>\n",
              "      <td>Grass</td>\n",
              "      <td>2598</td>\n",
              "    </tr>\n",
              "    <tr>\n",
              "      <th>3</th>\n",
              "      <td>Charmander</td>\n",
              "      <td>78</td>\n",
              "      <td>128</td>\n",
              "      <td>108</td>\n",
              "      <td>0.16</td>\n",
              "      <td>0.10</td>\n",
              "      <td>25.3</td>\n",
              "      <td>Fire</td>\n",
              "      <td>962</td>\n",
              "    </tr>\n",
              "    <tr>\n",
              "      <th>4</th>\n",
              "      <td>Charmeleon</td>\n",
              "      <td>116</td>\n",
              "      <td>160</td>\n",
              "      <td>140</td>\n",
              "      <td>0.08</td>\n",
              "      <td>0.07</td>\n",
              "      <td>1.2</td>\n",
              "      <td>Fire</td>\n",
              "      <td>1568</td>\n",
              "    </tr>\n",
              "  </tbody>\n",
              "</table>\n",
              "</div>"
            ],
            "text/plain": [
              "         name  stamina  attack_value  defense_value  capture_rate  flee_rate  \\\n",
              "0   Bulbasaur       90           126            126          0.16       0.10   \n",
              "1     Ivysaur      120           156            158          0.08       0.07   \n",
              "2    Venusaur      160           198            200          0.04       0.05   \n",
              "3  Charmander       78           128            108          0.16       0.10   \n",
              "4  Charmeleon      116           160            140          0.08       0.07   \n",
              "\n",
              "   spawn_chance primary_strength  combat_point  \n",
              "0          69.0            Grass          1079  \n",
              "1           4.2            Grass          1643  \n",
              "2           1.7            Grass          2598  \n",
              "3          25.3             Fire           962  \n",
              "4           1.2             Fire          1568  "
            ]
          },
          "execution_count": 7,
          "metadata": {},
          "output_type": "execute_result"
        }
      ],
      "source": [
        "import numpy as np\n",
        "import pandas as pd\n",
        "\n",
        "\n",
        "\n",
        "data_frame = pd.read_csv('pokemon_data.csv')\n",
        "data_frame.head()"
      ]
    },
    {
      "cell_type": "markdown",
      "metadata": {
        "id": "wnqDiBQq-4XK"
      },
      "source": [
        "Pandas is a fast, powerful, flexible and easy-to-use open-source data analysis and manipulation tool, built on top of Python. By executing the following code, let's create one Numpy array to contain the feature data without the name column and one array to contain the combat point ground truth."
      ]
    },
    {
      "cell_type": "code",
      "execution_count": 8,
      "metadata": {
        "colab": {
          "base_uri": "https://localhost:8080/"
        },
        "id": "poawJj5E-4XK",
        "outputId": "0e368b29-1881-4196-ef98-9644064f6a8d"
      },
      "outputs": [
        {
          "name": "stdout",
          "output_type": "stream",
          "text": [
            "[[90 126 126 0.16 0.1 69.0 'Grass']\n",
            " [120 156 158 0.08 0.07 4.2 'Grass']\n",
            " [160 198 200 0.04 0.05 1.7 'Grass']]\n",
            "array of labels: shape (146,)\n",
            "array of feature matrix: shape (146, 7)\n"
          ]
        }
      ],
      "source": [
        "features = data_frame.values[:, 1:-1]\n",
        "print(features[0:3],)\n",
        "labels = data_frame.values[:, -1]\n",
        "print('array of labels: shape ' + str(np.shape(labels)))\n",
        "print('array of feature matrix: shape ' + str(np.shape(features)))"
      ]
    },
    {
      "cell_type": "markdown",
      "metadata": {
        "id": "zCdJwNnF-4XL"
      },
      "source": [
        "Now, you may find out that we have a categorical feature 'primary_strength' in our data. Categorical features require special attention because usually they cannot be the input of regression models as they are. A potential way to treat categorical features is to simply convert each value of the feature to a separate number. However, this might impute non-existent relative associations between the features, which might not always be representative of the data (e.g., if we assign “1” to the value “green” and “2” to the value “red”, the regression algorithm will assume that “red” is greater than “green,” which is not necessarily the case). For this reason, we can use a “one hot encoding” to represent categorical features. According to this, we will create a binary column for each category of the categorical feature, which will take a value of 1 if the sample belongs to that category, and 0 otherwise. For each categorical feature of the problem, count the number of different values and implement the one hot encoding. For the remaining of the problem, you will be working with the one hot encoding of the categorical features.\n",
        "\n",
        "\n",
        "In the next cell, write your code to replace the categorical feature 'primary_strength' with **one-hot encoding** and generate the new version of the Numpy array 'features'.\n",
        "\n",
        "**Hint: if you don't remember one hot encoding, review the slides of our first-week lecture.**\n",
        "\n",
        "**Note: do not use sklearn to automatically generate one hot encoding.**"
      ]
    },
    {
      "cell_type": "code",
      "execution_count": 9,
      "metadata": {
        "colab": {
          "base_uri": "https://localhost:8080/"
        },
        "id": "DL0t3E9n-4XL",
        "outputId": "649bd642-972c-464d-f94b-c7e12092e17a"
      },
      "outputs": [
        {
          "name": "stdout",
          "output_type": "stream",
          "text": [
            "[['Bulbasaur' 90 126 126 0.16 0.1 69.0 0 0 0 0 0 0 0 1 0 0 0 0 0 0 0]\n",
            " ['Ivysaur' 120 156 158 0.08 0.07 4.2 0 0 0 0 0 0 0 1 0 0 0 0 0 0 0]\n",
            " ['Venusaur' 160 198 200 0.04 0.05 1.7 0 0 0 0 0 0 0 1 0 0 0 0 0 0 0]]\n",
            "[1079 1643 2598]\n"
          ]
        }
      ],
      "source": [
        "# Write your code here\n",
        "#strength_list=list((np.unique(features[:,6])))\n",
        "#unique_strengths=(len(np.unique(features[:,6])))\n",
        "#df=pd.DataFrame(strength_list, columns=[\"strengths\"])\n",
        "#df=pd.get_dummies(df['strengths'], dtype=int).T\n",
        "\n",
        "data_frame = pd.read_csv('pokemon_data.csv')\n",
        "\n",
        "data_frame=pd.get_dummies(data_frame,columns=['primary_strength'],dtype=int)\n",
        "\n",
        "labels=data_frame.values[:,7]\n",
        "features=data_frame.drop(columns=['combat_point'])\n",
        "features=features.values\n",
        "\n",
        "print(features[0:3,])\n",
        "print(labels[0:3])\n",
        "\n"
      ]
    },
    {
      "cell_type": "markdown",
      "metadata": {
        "id": "6ZF4ZXPj-4XL"
      },
      "source": [
        "Besides, you may also notice that other features have different scales. So, you need to standardize them: $({x-\\mu})/{\\sigma}$, where $\\mu$ is the mean and $\\sigma$ is the standard deviation. Write your code below.\n",
        "\n",
        "**Hint: details about feature standardization is also in slides of our first-week lecture.**\n",
        "\n",
        "**Note: You do not need to do standardize for one-hot encodings.**"
      ]
    },
    {
      "cell_type": "code",
      "execution_count": 10,
      "metadata": {
        "id": "llOh3Cvk-4XM"
      },
      "outputs": [],
      "source": [
        "# Write your code here\n",
        "\n"
      ]
    },
    {
      "cell_type": "markdown",
      "metadata": {
        "id": "jBCgFKE4-4XM"
      },
      "source": [
        "Now, in the next cell, you need to implement your own **linear regression model** using the **Ordinary Least Squares (OLS)** solution **without regularization**. And here, you should adopt the **5-fold cross-validation** method. For each fold compute and print out the **square root** of the residual sum of squares error (RSS) between the actual and predicted outcome variable. Also compute and print out the **average** square root of the RSS over all folds.\n",
        "\n",
        "**Note: You should implement the algorithm by yourself. You are NOT allowed to use Machine Learning libraries like Sklearn.**\n",
        "\n",
        "**Hint: Use numpy.linalg.pinv() for calculating the inverse of a matrix.**\n",
        "\n",
        "**Hint: details about cross-validation is in slides of KNN lecture.**\n",
        "\n",
        "**Hint: the sqrt_RSS for each fold should be 0~3000**\n"
      ]
    },
    {
      "cell_type": "code",
      "execution_count": 11,
      "metadata": {
        "id": "v9xda0Pa-4XM"
      },
      "outputs": [],
      "source": [
        "# Write your code here"
      ]
    },
    {
      "cell_type": "markdown",
      "metadata": {
        "id": "SNWRy5yU-4XM"
      },
      "source": [
        "At the end in this part, please repeat the same experiment as in the previous step, but instead of linear regression, implement linear regression **with L2-norm regularization**. Experiment and report your results (average square root of RSS over 5-fold cross-validation) with different values of the regularization term $\\lambda=\\{1, 0.1, 0.01, 0.001, 0.0001\\}$.\n",
        "\n",
        "**Hint: details about the closed-form solution with regularization is on page 74 in slides of our linear regression lecture.**"
      ]
    },
    {
      "cell_type": "code",
      "execution_count": 12,
      "metadata": {
        "id": "8j0Ugm-p-4XM"
      },
      "outputs": [],
      "source": [
        "# Write your code here"
      ]
    },
    {
      "cell_type": "markdown",
      "metadata": {
        "id": "rI1uGDcN-4XN"
      },
      "source": [
        "## Part 2: Neural Networks (40 points)\n",
        "\n",
        "In this part, you are going to implement your multi-layer perceptron model by the Pytorch library. You will still use the same handwritten digit image dataset from HW1. So, in the next few cells, please run the provided code to load and process the data, and create dataset objects for further use by Pytorch.\n",
        "\n",
        "**Note: you need to install Pytorch beforehand (check out https://pytorch.org/get-started/locally/). Or, you can use Google Colab for this homework, which is recommended.**"
      ]
    },
    {
      "cell_type": "code",
      "execution_count": 13,
      "metadata": {
        "colab": {
          "base_uri": "https://localhost:8080/",
          "height": 356
        },
        "id": "fNR9Ueii-4XN",
        "outputId": "f614b5f0-72c3-4d05-f9fd-e27fddc2e1f8"
      },
      "outputs": [],
      "source": [
        "# load data from file and split into training and validation sets\n",
        "import numpy as np\n",
        "data = np.loadtxt(\"train.txt\", delimiter=',')\n",
        "perm_idx = np.random.permutation(data.shape[0])\n",
        "vali_num = int(data.shape[0] * 0.2)\n",
        "vali_idx = perm_idx[:vali_num]\n",
        "train_idx = perm_idx[vali_num:]\n",
        "train_data = data[train_idx]\n",
        "vali_data = data[vali_idx]\n",
        "train_features = train_data[:, 1:].astype(np.float32)\n",
        "train_labels = train_data[:, 0].astype(int)\n",
        "vali_features = vali_data[:, 1:].astype(np.float32)\n",
        "vali_labels = vali_data[:, 0].astype(int)"
      ]
    },
    {
      "cell_type": "code",
      "execution_count": 14,
      "metadata": {
        "id": "iomB0_ET-4XN"
      },
      "outputs": [
        {
          "ename": "ModuleNotFoundError",
          "evalue": "No module named 'torch'",
          "output_type": "error",
          "traceback": [
            "\u001b[31m---------------------------------------------------------------------------\u001b[39m",
            "\u001b[31mModuleNotFoundError\u001b[39m                       Traceback (most recent call last)",
            "\u001b[36mCell\u001b[39m\u001b[36m \u001b[39m\u001b[32mIn[14]\u001b[39m\u001b[32m, line 2\u001b[39m\n\u001b[32m      1\u001b[39m \u001b[38;5;66;03m# define a Dataset class\u001b[39;00m\n\u001b[32m----> \u001b[39m\u001b[32m2\u001b[39m \u001b[38;5;28;01mfrom\u001b[39;00m\u001b[38;5;250m \u001b[39m\u001b[34;01mtorch\u001b[39;00m\u001b[34;01m.\u001b[39;00m\u001b[34;01mutils\u001b[39;00m\u001b[34;01m.\u001b[39;00m\u001b[34;01mdata\u001b[39;00m\u001b[38;5;250m \u001b[39m\u001b[38;5;28;01mimport\u001b[39;00m Dataset\n\u001b[32m      3\u001b[39m \u001b[38;5;28;01mfrom\u001b[39;00m\u001b[38;5;250m \u001b[39m\u001b[34;01mtorch\u001b[39;00m\u001b[34;01m.\u001b[39;00m\u001b[34;01mutils\u001b[39;00m\u001b[34;01m.\u001b[39;00m\u001b[34;01mdata\u001b[39;00m\u001b[38;5;250m \u001b[39m\u001b[38;5;28;01mimport\u001b[39;00m DataLoader\n\u001b[32m      4\u001b[39m \u001b[38;5;28;01mclass\u001b[39;00m\u001b[38;5;250m \u001b[39m\u001b[34;01mMNISTDataset\u001b[39;00m(Dataset):\n",
            "\u001b[31mModuleNotFoundError\u001b[39m: No module named 'torch'"
          ]
        }
      ],
      "source": [
        "# define a Dataset class\n",
        "from torch.utils.data import Dataset\n",
        "from torch.utils.data import DataLoader\n",
        "class MNISTDataset(Dataset):\n",
        "    def __init__(self, features, labels):\n",
        "        self.features = features\n",
        "        self.labels = labels\n",
        "\n",
        "    def __len__(self):\n",
        "        return len(self.labels)\n",
        "\n",
        "    def __getitem__(self, idx):\n",
        "        return self.features[idx, :], self.labels[idx]"
      ]
    },
    {
      "cell_type": "code",
      "execution_count": null,
      "metadata": {
        "id": "NEE0vloM-4XN"
      },
      "outputs": [],
      "source": [
        "training_data = MNISTDataset(train_features, train_labels)\n",
        "vali_data = MNISTDataset(vali_features, vali_labels)\n",
        "batch_size = 64\n",
        "\n",
        "# Create data loaders.\n",
        "train_dataloader = DataLoader(training_data, batch_size=batch_size)\n",
        "vali_dataloader = DataLoader(vali_data, batch_size=batch_size)\n",
        "\n",
        "for X, y in train_dataloader:\n",
        "    print(f\"Shape of X [N, F]: {X.shape} {X.dtype}\")\n",
        "    print(f\"Shape of y: {y.shape} {y.dtype}\")\n",
        "    break"
      ]
    },
    {
      "cell_type": "markdown",
      "metadata": {
        "id": "IVXKrZLy-4XN"
      },
      "source": [
        "Now, you should have the train_dataloader and vali_dataloader. Then, you need to build and train your multi-layer perceptron model by Pytorch.\n",
        "\n",
        "https://pytorch.org/tutorials/beginner/basics/quickstart_tutorial.html gives a comprehansive example how to achieve this. Please read this tutorial closely, and implement the model in the next few cells.\n",
        "\n",
        "https://colab.research.google.com/github/pytorch/tutorials/blob/gh-pages/_downloads/c30c1dcf2bc20119bcda7e734ce0eb42/quickstart_tutorial.ipynb provides the interactive version, which you can run and edit.\n",
        "\n",
        "**Note: in your implementation:**\n",
        "- you will only have three layers [784 -> 512 -> 10], you need to remove the [512 -> 512] layer in the tutorial.\n",
        "- add 'weight_decay=1e-4' in torch.optim.SGD to add L2 regularization.\n",
        "- train the model for 10 epochs instead of 5 epochs.\n",
        "- keep all other hyper-parameters the same as used in the tutorial.\n",
        "- **You are allowed to resue the code in the tutorial for this homework**\n",
        "\n",
        "\n",
        "**Note: print out the training process and the final accuracy on the validation set.**\n",
        "\n",
        "**Note: you can use Colab for running the code with GPU for free (open a colab notebook, then Runtime->Change runtime type->Hardware accelerator->GPU)**"
      ]
    },
    {
      "cell_type": "code",
      "execution_count": null,
      "metadata": {
        "id": "7ra77Ohj-4XN"
      },
      "outputs": [],
      "source": [
        "# Write your code"
      ]
    },
    {
      "cell_type": "markdown",
      "metadata": {
        "id": "ZIbbQ3yX-4XO"
      },
      "source": [
        "## Part 3: Tune Hyperparameter (20 points)\n",
        "\n",
        "In this part, you need to do your best to tune the hyperparameters in the MLP to build the best model and evaluate the predictions for the testing data."
      ]
    },
    {
      "cell_type": "markdown",
      "metadata": {
        "id": "noK-O2el-4XO"
      },
      "source": [
        "Now, you should tune four hyperparameters:\n",
        "\n",
        "- the number of layers and the dimension of each layer (explore as much as you can, but choose reasonable settings considering the computational resources you have)\n",
        "- the activation function (choose from sigmoid, tanh, relu)\n",
        "- weight decay\n",
        "- number of training epochs\n",
        "\n",
        "\n",
        "**Hint: You can tune these hyperparameters by one randomly generated validation set, or you can also use the cross-validation method.**\n",
        "\n",
        "**Note: you can use Colab for running the code with GPU for free**\n"
      ]
    },
    {
      "cell_type": "code",
      "execution_count": null,
      "metadata": {
        "id": "A9IP9h9B-4XO"
      },
      "outputs": [],
      "source": [
        "# Write your code here"
      ]
    },
    {
      "cell_type": "markdown",
      "metadata": {
        "id": "jy4JNtUn-4XO"
      },
      "source": [
        "### Question: What is your final hyperparameter setting? How do you tune them? What choices have you tried?"
      ]
    },
    {
      "cell_type": "markdown",
      "metadata": {
        "id": "5UmcyYbi-4XO"
      },
      "source": [
        "#### Write your answer here"
      ]
    },
    {
      "cell_type": "markdown",
      "metadata": {
        "id": "c9wWd0Aq-4XO",
        "jp-MarkdownHeadingCollapsed": true
      },
      "source": [
        "Please apply the model with the best hyperparameter setting you find above to the testing set. First of all, let's load the testing data by executing the following code."
      ]
    },
    {
      "cell_type": "code",
      "execution_count": null,
      "metadata": {
        "id": "GmPSybTn-4XO"
      },
      "outputs": [],
      "source": [
        "test_features = np.loadtxt(\"test.txt\", delimiter=',')\n",
        "test_labels = np.loadtxt(\"test_label.txt\")\n",
        "print('array of testing feature matrix: shape ' + str(np.shape(test_features)))\n",
        "print('array of testing labels: shape ' + str(np.shape(test_labels)))"
      ]
    },
    {
      "cell_type": "markdown",
      "metadata": {
        "id": "Dss_5iQ3-4XO"
      },
      "source": [
        "Now, report the Accuracy of your best model on the testing set.\n",
        "\n",
        "**Hint: use the following two lines of code to generate the label predictions for test data:**\n",
        "- raw_pred = model(torch.tensor(test_features).to(device).float())\n",
        "- pred = np.argmax(raw_pred.to('cpu').detach().numpy(), axis=1)"
      ]
    },
    {
      "cell_type": "code",
      "execution_count": null,
      "metadata": {
        "id": "O85C60IZ-4XO"
      },
      "outputs": [],
      "source": [
        "# Write your code here"
      ]
    }
  ],
  "metadata": {
    "accelerator": "GPU",
    "anaconda-cloud": {},
    "colab": {
      "gpuType": "T4",
      "provenance": []
    },
    "kernelspec": {
      "display_name": "cs584",
      "language": "python",
      "name": "python3"
    },
    "language_info": {
      "codemirror_mode": {
        "name": "ipython",
        "version": 3
      },
      "file_extension": ".py",
      "mimetype": "text/x-python",
      "name": "python",
      "nbconvert_exporter": "python",
      "pygments_lexer": "ipython3",
      "version": "3.13.5"
    }
  },
  "nbformat": 4,
  "nbformat_minor": 0
}
